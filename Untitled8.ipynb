{
 "cells": [
  {
   "cell_type": "code",
   "execution_count": 2,
   "metadata": {
    "scrolled": false
   },
   "outputs": [
    {
     "name": "stdout",
     "output_type": "stream",
     "text": [
      "請輸入頁數:3\n",
      "請輸入日期1:11/15\n",
      "請輸入日期2:11/16\n",
      "輸入特定文字:\n",
      "第 1 頁\n",
      "[耍冷]為何一個老婆總覺得不夠 http://www.ptt.cc/bbs/joke/M.1573883427.A.0E7.html onlyu0402 11/16\n",
      "[耍冷] 推特上在夯什麼 Part.166 http://www.ptt.cc/bbs/joke/M.1573884378.A.77B.html Funghikun 11/16\n",
      "第 2 頁\n",
      "[趣圖] 反・霸凌 之二 http://www.ptt.cc/bbs/joke/M.1573819080.A.A9E.html huskyomega 11/15\n"
     ]
    },
    {
     "ename": "UnicodeEncodeError",
     "evalue": "'cp950' codec can't encode character '\\u30fb' in position 6: illegal multibyte sequence",
     "output_type": "error",
     "traceback": [
      "\u001b[1;31m---------------------------------------------------------------------------\u001b[0m",
      "\u001b[1;31mUnicodeEncodeError\u001b[0m                        Traceback (most recent call last)",
      "\u001b[1;32m<ipython-input-2-62c4f3757536>\u001b[0m in \u001b[0;36m<module>\u001b[1;34m\u001b[0m\n\u001b[0;32m     29\u001b[0m                     \u001b[0mprint\u001b[0m\u001b[1;33m(\u001b[0m\u001b[0mtitle\u001b[0m\u001b[1;33m,\u001b[0m\u001b[0mhref\u001b[0m\u001b[1;33m,\u001b[0m\u001b[0mauthor\u001b[0m\u001b[1;33m,\u001b[0m\u001b[0mdate\u001b[0m\u001b[1;33m)\u001b[0m\u001b[1;33m\u001b[0m\u001b[1;33m\u001b[0m\u001b[0m\n\u001b[0;32m     30\u001b[0m                     \u001b[1;32mwith\u001b[0m \u001b[0mopen\u001b[0m \u001b[1;33m(\u001b[0m\u001b[1;34m'joys'\u001b[0m\u001b[1;33m,\u001b[0m\u001b[1;34m'a'\u001b[0m\u001b[1;33m)\u001b[0m \u001b[1;32mas\u001b[0m \u001b[0mfp\u001b[0m\u001b[1;33m:\u001b[0m\u001b[1;33m\u001b[0m\u001b[1;33m\u001b[0m\u001b[0m\n\u001b[1;32m---> 31\u001b[1;33m                         \u001b[0mfp\u001b[0m\u001b[1;33m.\u001b[0m\u001b[0mwrite\u001b[0m\u001b[1;33m(\u001b[0m\u001b[0mtitle\u001b[0m\u001b[1;33m)\u001b[0m\u001b[1;33m\u001b[0m\u001b[1;33m\u001b[0m\u001b[0m\n\u001b[0m\u001b[0;32m     32\u001b[0m                         \u001b[0mfp\u001b[0m\u001b[1;33m.\u001b[0m\u001b[0mwrite\u001b[0m\u001b[1;33m(\u001b[0m\u001b[0mhref\u001b[0m\u001b[1;33m)\u001b[0m\u001b[1;33m\u001b[0m\u001b[1;33m\u001b[0m\u001b[0m\n\u001b[0;32m     33\u001b[0m                         \u001b[0mfp\u001b[0m\u001b[1;33m.\u001b[0m\u001b[0mwrite\u001b[0m\u001b[1;33m(\u001b[0m\u001b[0mauthor\u001b[0m\u001b[1;33m)\u001b[0m\u001b[1;33m\u001b[0m\u001b[1;33m\u001b[0m\u001b[0m\n",
      "\u001b[1;31mUnicodeEncodeError\u001b[0m: 'cp950' codec can't encode character '\\u30fb' in position 6: illegal multibyte sequence"
     ]
    }
   ],
   "source": [
    "import requests\n",
    "from bs4 import BeautifulSoup\n",
    "\n",
    "url=\"https://www.ptt.cc/bbs/joke/index.html\"\n",
    "page=int(input(\"請輸入頁數:\"))\n",
    "d1=input(\"請輸入日期1:\")\n",
    "d2=input(\"請輸入日期2:\")\n",
    "txt=input(\"輸入特定文字:\")\n",
    "a=0\n",
    "\n",
    "for i in range(page):\n",
    "    a=0\n",
    "    req=requests.get(url).text\n",
    "    soup=BeautifulSoup(req,\"html.parser\")\n",
    "    sels=soup.select('div.r-ent')\n",
    "    pre=soup.select('div.btn-group.btn-group-paging a')[1][\"href\"]\n",
    "    url=\"http://www.ptt.cc\"+pre\n",
    "    print(\"第\",i+1,\"頁\")\n",
    "    for sel in sels:\n",
    "        list.clear       \n",
    "        title=sel.find('div','title').text.strip()\n",
    "        if \"本文已被刪除\" not in title:\n",
    "            date=sel.find('div','date').text\n",
    "            href=\"http://www.ptt.cc\"+sel.select('div.title a')[0]['href']           \n",
    "            author=sel.find('div','author').text\n",
    "            if d1<=date<=d2:\n",
    "                if txt in title:\n",
    "                    a=a+1\n",
    "                    print(title,href,author,date)\n",
    "                    with open ('joys','a') as fp:\n",
    "                        fp.write(title)\n",
    "                        fp.write(href)\n",
    "                        fp.write(author)\n",
    "                        fp.write(date)\n",
    "    if a==0:\n",
    "        print(\"無資料\")\n",
    "                 \n",
    "             \n",
    "        #title=sel.find('div','title').text.strip()\n",
    "        #1\n",
    "        #href_tmp=sel.find('div','title')\n",
    "        #href=href_tmp.find('a')['href']\n",
    "        \n",
    "        #2\n",
    "        #href=sel.find('a')['href']\n",
    "        \n",
    "        #3\n",
    "        #href=sel.select('div.title a')[0]['href']\n",
    "        #print(title,href)\n",
    "    \n",
    "    \n",
    "    #print(url)\n",
    "    #for a in sel:\n",
    "        "
   ]
  },
  {
   "cell_type": "code",
   "execution_count": null,
   "metadata": {},
   "outputs": [],
   "source": []
  },
  {
   "cell_type": "code",
   "execution_count": null,
   "metadata": {},
   "outputs": [],
   "source": []
  }
 ],
 "metadata": {
  "kernelspec": {
   "display_name": "Python 3",
   "language": "python",
   "name": "python3"
  },
  "language_info": {
   "codemirror_mode": {
    "name": "ipython",
    "version": 3
   },
   "file_extension": ".py",
   "mimetype": "text/x-python",
   "name": "python",
   "nbconvert_exporter": "python",
   "pygments_lexer": "ipython3",
   "version": "3.7.3"
  }
 },
 "nbformat": 4,
 "nbformat_minor": 2
}
