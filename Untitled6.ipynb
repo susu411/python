{
 "cells": [
  {
   "cell_type": "code",
   "execution_count": 12,
   "metadata": {},
   "outputs": [
    {
     "data": {
      "text/plain": [
       "True"
      ]
     },
     "execution_count": 12,
     "metadata": {},
     "output_type": "execute_result"
    }
   ],
   "source": [
    "from selenium import webdriver\n",
    "browser=webdriver.Chrome()\n",
    "type(browser)\n",
    "browser.get('https://tw.yahoo.com/')\n",
    "elem=browser.find_element_by_link_text('股市')\n",
    "elem.click()\n",
    "elem=browser.find_element_by_id('stock_id')\n",
    "elem.send_keys('2330')\n",
    "elem.submit()\n",
    "browser.save_screenshot('tttt.png')"
   ]
  },
  {
   "cell_type": "code",
   "execution_count": 17,
   "metadata": {},
   "outputs": [],
   "source": [
    "from selenium import webdriver\n",
    "browser=webdriver.Chrome()\n",
    "type(browser)\n",
    "browser.get('https://www.yam.com/')\n",
    "elem=browser.find_element_by_link_text('會員登入')\n",
    "elem.click()\n",
    "emailElem=browser.find_element_by_id('MEMBER_ID')\n",
    "emailElem.send_keys('premier0722')\n",
    "passwordElem=browser.find_element_by_id('MEMBER_PWD')\n",
    "passwordElem.send_keys('angel13')\n",
    "passwordElem.submit()"
   ]
  },
  {
   "cell_type": "code",
   "execution_count": 8,
   "metadata": {},
   "outputs": [],
   "source": [
    "from selenium import webdriver\n",
    "from selenium.webdriver.common.keys import Keys\n",
    "import time\n",
    "browser=webdriver.Chrome()\n",
    "browser.get('https://play2048.co')\n",
    "htmlElem=browser.find_element_by_tag_name('body')\n",
    "con=0\n",
    "while True:\n",
    "    try:\n",
    "        if (con%4==0):\n",
    "            htmlElem.send_keys(Keys.RIGHT)\n",
    "        elif (con%4==1):\n",
    "            htmlElem.send_keys(Keys.DOWN)\n",
    "        elif (con%4==2):\n",
    "            htmlElem.send_keys(Keys.LEFT)\n",
    "        else:\n",
    "            htmlElem.send_keys(Keys.UP)\n",
    "        #time.sleep(0.4)\n",
    "    except:\n",
    "        break\n",
    "    con=con+1"
   ]
  },
  {
   "cell_type": "code",
   "execution_count": 13,
   "metadata": {},
   "outputs": [
    {
     "name": "stdout",
     "output_type": "stream",
     "text": [
      "upmco@baidu.com\n",
      "campusmaster@baidu.com\n",
      "zhanzhangpingtai@baidu.com\n",
      "mbaidu@baidu.com\n",
      "upmco@baidu.com\n",
      "campusmaster@baidu.com\n",
      "zhanzhangpingtai@baidu.com\n",
      "mbaidu@baidu.com\n"
     ]
    }
   ],
   "source": [
    "from selenium import webdriver\n",
    "import re\n",
    "import time\n",
    "driver=webdriver.Chrome()\n",
    "driver.maximize_window()\n",
    "time.sleep(0.4)\n",
    "fp = open('note.txt','w')\n",
    "driver.get('http://home.baidu.com/contact.html')\n",
    "doc=driver.page_source\n",
    "\n",
    "emails=re.findall(r'[\\w]+@[\\w\\.-]+',doc)\n",
    "#print(emails)\n",
    "for email in emails:    \n",
    "    fp.write(email+'\\n')    \n",
    "    print(email)\n",
    "fp.close()"
   ]
  },
  {
   "cell_type": "code",
   "execution_count": 62,
   "metadata": {},
   "outputs": [
    {
     "name": "stdout",
     "output_type": "stream",
     "text": [
      "liberal@ntu.edu.tw\n",
      "liberal@ntu.edu.tw\n",
      "cos@ntu.edu.tw\n",
      "cos@ntu.edu.tw\n",
      "coss@ntu.edu.tw\n",
      "coss@ntu.edu.tw\n",
      "mcdean@ntu.edu.tw\n",
      "mcdean@ntu.edu.tw\n",
      "ntucoe@ntu.edu.tw\n",
      "ntucoe@ntu.edu.tw\n",
      "agricul@ntu.edu.tw\n",
      "agricul@ntu.edu.tw\n",
      "manage@ntu.edu.tw\n",
      "manage@ntu.edu.tw\n",
      "phc@ntu.edu.tw\n",
      "phc@ntu.edu.tw\n",
      "eecs@ntu.edu.tw\n",
      "eecs@ntu.edu.tw\n",
      "law@ntu.edu.tw\n",
      "law@ntu.edu.tw\n",
      "ntucols@ntu.edu.tw\n",
      "ntucols@ntu.edu.tw\n",
      "uecem@ntu.edu.tw\n",
      "uecem@ntu.edu.tw\n"
     ]
    }
   ],
   "source": [
    "from selenium import webdriver\n",
    "import re\n",
    "import time\n",
    "driver=webdriver.Chrome()\n",
    "driver.maximize_window()\n",
    "time.sleep(0.4)\n",
    "fp = open('note.txt','w')\n",
    "driver.get('https://www.ntu.edu.tw/academics/academics.html')\n",
    "doc=driver.page_source\n",
    "\n",
    "\n",
    "#print(doc)\n",
    "emails=re.findall(r'[\\w]+@[\\w\\.-]+',doc)\n",
    "#print(emails)\n",
    "for email in emails:    \n",
    "    fp.write(email+'\\n')    \n",
    "    print(email)\n",
    "fp.close()"
   ]
  },
  {
   "cell_type": "code",
   "execution_count": 32,
   "metadata": {},
   "outputs": [
    {
     "ename": "SyntaxError",
     "evalue": "unexpected EOF while parsing (<ipython-input-32-78a9acf79b59>, line 46)",
     "output_type": "error",
     "traceback": [
      "\u001b[1;36m  File \u001b[1;32m\"<ipython-input-32-78a9acf79b59>\"\u001b[1;36m, line \u001b[1;32m46\u001b[0m\n\u001b[1;33m    #        driver.quit()  # 關閉瀏覽器, 結束 webdriver process'''\u001b[0m\n\u001b[1;37m                                                            \n^\u001b[0m\n\u001b[1;31mSyntaxError\u001b[0m\u001b[1;31m:\u001b[0m unexpected EOF while parsing\n"
     ]
    }
   ],
   "source": [
    "from bs4 import BeautifulSoup\n",
    "from selenium import webdriver\n",
    "from selenium.webdriver.support.ui import WebDriverWait\n",
    "from selenium.webdriver.support import expected_conditions\n",
    "from selenium.webdriver.common.by import by\n",
    "\n",
    "\n",
    "if __name__ == '__main__':\n",
    "    url = 'http://www.bot.com.tw/house/default.aspx'\n",
    "    try:\n",
    "        #options = webdriver.ChromeOptions()\n",
    "        # options.add_argument('--headless')\n",
    "        # executable_path 輸入 web driver 執行檔的位置\n",
    "        driver = webdriver.Chrome()\n",
    "        #driver.set_page_load_timeout(60)\n",
    "        driver.get(url)\n",
    "\n",
    "        # 定位日期輸入欄位, 並輸入日期\n",
    "        '''element = driver.find_element_by_id('fromdate_TextBox')\n",
    "        element.send_keys('1080101')\n",
    "        element = driver.find_element_by_id('todate_TextBox')\n",
    "        element.send_keys('1081031')\n",
    "        # 定位選單所在欄位並點擊\n",
    "        element = driver.find_element_by_id('country_DDL')\n",
    "        element.click()\n",
    "\n",
    "        # 巡覽選單, 點擊對應選項\n",
    "        for option in element.find_elements_by_tag_name('option'):\n",
    "            if option.text == '彰化縣':\n",
    "                option.click()\n",
    "\n",
    "        # 點擊送出按鈕\n",
    "        element = driver.find_element_by_id('Submit_Button').click()\n",
    "\n",
    "        # 等待目標表格出現\n",
    "        element = WebDriverWait(driver, 5).until(\n",
    "            expected_conditions.presence_of_element_located((By.ID, 'House_GridView'))\n",
    "        )\n",
    "\n",
    "        # page_source 可以回傳目前瀏覽器所看到的網頁文件\n",
    "        soup = BeautifulSoup(driver.page_source, 'html5lib')\n",
    "        table = soup.find(id='House_GridView')\n",
    "        for row in table.find_all('tr'):\n",
    "            print([s for s in row.stripped_strings])#\n",
    "    finally:\n",
    "#        driver.quit()  # 關閉瀏覽器, 結束 webdriver process'''"
   ]
  },
  {
   "cell_type": "code",
   "execution_count": 23,
   "metadata": {},
   "outputs": [
    {
     "ename": "NameError",
     "evalue": "name 'WebDriverWait' is not defined",
     "output_type": "error",
     "traceback": [
      "\u001b[1;31m---------------------------------------------------------------------------\u001b[0m",
      "\u001b[1;31mNameError\u001b[0m                                 Traceback (most recent call last)",
      "\u001b[1;32m<ipython-input-23-f25e1109fbd7>\u001b[0m in \u001b[0;36m<module>\u001b[1;34m\u001b[0m\n\u001b[0;32m     21\u001b[0m \u001b[0melement\u001b[0m \u001b[1;33m=\u001b[0m \u001b[0mbrowser\u001b[0m\u001b[1;33m.\u001b[0m\u001b[0mfind_element_by_id\u001b[0m\u001b[1;33m(\u001b[0m\u001b[1;34m'Submit_Button'\u001b[0m\u001b[1;33m)\u001b[0m\u001b[1;33m\u001b[0m\u001b[1;33m\u001b[0m\u001b[0m\n\u001b[0;32m     22\u001b[0m \u001b[0melement\u001b[0m\u001b[1;33m.\u001b[0m\u001b[0mclick\u001b[0m\u001b[1;33m(\u001b[0m\u001b[1;33m)\u001b[0m\u001b[1;33m\u001b[0m\u001b[1;33m\u001b[0m\u001b[0m\n\u001b[1;32m---> 23\u001b[1;33m \u001b[0melement\u001b[0m \u001b[1;33m=\u001b[0m \u001b[0mWebDriverWait\u001b[0m\u001b[1;33m(\u001b[0m\u001b[0mbrowser\u001b[0m\u001b[1;33m,\u001b[0m \u001b[1;36m15\u001b[0m\u001b[1;33m)\u001b[0m\u001b[1;33m.\u001b[0m\u001b[0muntil\u001b[0m\u001b[1;33m(\u001b[0m\u001b[0mexpected_conditions\u001b[0m\u001b[1;33m.\u001b[0m\u001b[0mpresence_of_element_located\u001b[0m\u001b[1;33m(\u001b[0m\u001b[1;33m(\u001b[0m\u001b[0mBy\u001b[0m\u001b[1;33m.\u001b[0m\u001b[0mID\u001b[0m\u001b[1;33m,\u001b[0m \u001b[1;34m'House_GridView'\u001b[0m\u001b[1;33m)\u001b[0m\u001b[1;33m)\u001b[0m\u001b[1;33m)\u001b[0m\u001b[1;33m\u001b[0m\u001b[1;33m\u001b[0m\u001b[0m\n\u001b[0m\u001b[0;32m     24\u001b[0m \u001b[1;33m\u001b[0m\u001b[0m\n\u001b[0;32m     25\u001b[0m         \u001b[1;31m# page_source 可以回傳目前瀏覽器所看到的網頁文件\u001b[0m\u001b[1;33m\u001b[0m\u001b[1;33m\u001b[0m\u001b[1;33m\u001b[0m\u001b[0m\n",
      "\u001b[1;31mNameError\u001b[0m: name 'WebDriverWait' is not defined"
     ]
    }
   ],
   "source": [
    "from selenium import webdriver\n",
    "import time\n",
    "url='http://www.bot.com.tw/house/default.aspx'\n",
    "browser=webdriver.Chrome()\n",
    "fp = open('note.txt','w')\n",
    "browser.get(url)\n",
    "browser.maximize_window()\n",
    "\n",
    "element = browser.find_element_by_id('fromdate_TextBox')\n",
    "element.send_keys('1080101')\n",
    "element = browser.find_element_by_id('todate_TextBox')\n",
    "element.send_keys('1081031')\n",
    "# 定位選單所在欄位並點擊\n",
    "element = browser.find_element_by_name('country_DDL')\n",
    "element.click()\n",
    "\n",
    "for option in element.find_elements_by_tag_name('option'):\n",
    "            if option.text == '台北市':\n",
    "                option.click()\n",
    "                \n",
    "element = browser.find_element_by_id('Submit_Button')\n",
    "element.click()\n",
    "element = WebDriverWait(browser, 15).until(expected_conditions.presence_of_element_located((By.ID, 'House_GridView')))\n",
    "\n",
    "        # page_source 可以回傳目前瀏覽器所看到的網頁文件\n",
    "soup = BeautifulSoup(browser.page_source, 'html5lib')\n",
    "table = soup.find(id='House_GridView')\n",
    "for row in table.find_all('tr'):\n",
    "    for s in row.stripped_strings:\n",
    "        fp.write(s+'\\n')\n",
    "fp.close()"
   ]
  },
  {
   "cell_type": "code",
   "execution_count": 1,
   "metadata": {},
   "outputs": [],
   "source": [
    "from bs4 import BeautifulSoup\n",
    "import time\n",
    "from selenium import webdriver\n",
    "from selenium.webdriver.common .keys import Keys\n",
    "url='http://aomp.judicial.gov.tw/abbs/wkw/WHD2A00.jsp'\n",
    "browser=webdriver.Chrome()\n",
    "fp = open('note.txt','w',encoding=\" utf-8\")\n",
    "browser.get(url)\n",
    "browser.maximize_window()\n",
    "browser.find_element_by_name('court').click()\n",
    "for option in browser.find_elements_by_tag_name('option'):\n",
    "    if option.text == '臺灣彰化地方法院':\n",
    "        option.click()\n",
    "\n",
    "browser.find_element_by_class_name('small').click()\n",
    "\n",
    "time.sleep(0.5)\n",
    "\n",
    "browser.find_element_by_class_name('small').click()\n",
    "\n",
    "time.sleep(5)\n",
    "\n",
    "element=browser.find_element_by_id('hsimun')\n",
    "for option in element.find_elements_by_tag_name('option'):\n",
    "    if option.text == '彰化縣':\n",
    "        option.click()\n",
    "\n",
    "time.sleep(5)\n",
    "element=browser.find_element_by_id('ctmd')\n",
    "for option in element.find_elements_by_tag_name('option'):\n",
    "    if option.text == '員林市':\n",
    "        option.click()\n",
    "\n",
    "time.sleep(5)\n",
    "element=browser.find_element_by_tag_name('input')\n",
    "element.submit()\n",
    "\n",
    "soup = BeautifulSoup(browser.page_source, 'html5lib')\n",
    "for row in soup.find_all('tr'):\n",
    "    for s in row.stripped_strings:\n",
    "        fp.write(s+'\\n')\n",
    "fp.close()"
   ]
  },
  {
   "cell_type": "code",
   "execution_count": 38,
   "metadata": {},
   "outputs": [],
   "source": [
    "from bs4 import BeautifulSoup\n",
    "import time\n",
    "from selenium import webdriver\n",
    "from selenium.webdriver.common .keys import Keys\n",
    "url='https://www.tenlong.com.tw/'\n",
    "browser=webdriver.Chrome()\n",
    "fp = open('note.txt','w',encoding=\" utf-8\")\n",
    "browser.get(url)\n",
    "browser.maximize_window()\n",
    "element = browser.find_element_by_name('keyword')\n",
    "element.send_keys('洪錦魁')\n",
    "element=browser.find_element_by_tag_name('button')\n",
    "element.submit()\n",
    "soup = BeautifulSoup(browser.page_source, 'html5lib')\n",
    "for row in soup.find_all('li'):\n",
    "    for s in row.stripped_strings:\n",
    "        fp.write(s+'\\n')\n",
    "fp.close()"
   ]
  },
  {
   "cell_type": "code",
   "execution_count": 91,
   "metadata": {},
   "outputs": [
    {
     "ename": "SyntaxError",
     "evalue": "invalid syntax (<ipython-input-91-61564e616718>, line 28)",
     "output_type": "error",
     "traceback": [
      "\u001b[1;36m  File \u001b[1;32m\"<ipython-input-91-61564e616718>\"\u001b[1;36m, line \u001b[1;32m28\u001b[0m\n\u001b[1;33m    for a in sel\u001b[0m\n\u001b[1;37m                ^\u001b[0m\n\u001b[1;31mSyntaxError\u001b[0m\u001b[1;31m:\u001b[0m invalid syntax\n"
     ]
    }
   ],
   "source": [
    "from bs4 import BeautifulSoup\n",
    "import requests\n",
    "url='http://aomp.judicial.gov.tw/abbs/wkw/WHD2A03.jsp?DA26ED66FBC64C8E3F76F8B3C7898E83=98052D445BCDAB5B95CB3BAD53C23565&hsimun=%B9%FC%A4%C6%BF%A4&ctmd=%AD%FB%AAL%A5%AB&sec=all&saledate1=&saledate2=&crmyy=&crmid=&crmno=&dpt=&minprice1=&minprice2=&saleno=&area1=&area2=&registeno=&checkyn=all&emptyyn=all&rrange=%A4%A3%A4%C0&comm_yn=&owner1=&order=odcrm&courtX=CHD&proptypeX=C52&saletypeX=1&query_typeX=db'\n",
    "fp = open('note.txt','w',encoding=\" utf-8\")\n",
    "req=requests.get(url).text\n",
    "soup = BeautifulSoup(req, 'lxml')\n",
    "sels =soup.find_all('table')[2]\n",
    "#print(sels)\n",
    "sub_sels=sels.find_all('tr')\n",
    "#print(sub_sels)\n",
    "for sel in sub_sels[1:]:\n",
    "    sub_sels=sel.find_all('td')\n",
    "    #print(sub_sels)\n",
    "    no=sub_sels[0].text.strip()\n",
    "    name=sub_sels[1].text.strip()\n",
    "    address_ad=sub_sels[2].text.replace(u'\\xa0','').strip()\n",
    "    address=address_ad.split('\\r\\n')[0]+address_ad.split('\\r\\n')[2].strip()\n",
    "    day_d=sub_sels[3].text.replace(u'\\xa0','').strip()\n",
    "    day=day_d.split('\\r\\n')[0]+day_d.split('\\r\\n')[3].strip()\n",
    "    County_co=sub_sels[4].text.replace(u'\\xa0','').strip()\n",
    "    County=County_co.split('\\r\\n')[0]+County_co.split('\\r\\n')[1].strip()\n",
    "    house_ho=sub_sels[5].text.replace(u'\\xa0','').strip()\n",
    "    house=house_ho.split('\\r\\n')[0].replace('\\n','')+house_ho.split('\\r\\n')[2].replace('\\n','').strip().replace('\\u3000','')+house_ho.split('\\r\\n')[7].replace('\\t\\t','').strip()\n",
    "    price=sub_sels[6].text.strip()\n",
    "    Point=sub_sels[7].text.strip()\n",
    "    Mark=sub_sels[9].text.strip()\n",
    "    print(no,name,address,day,County,house,Point,Mark)\n",
    "for a in sel\n",
    "    with open \n",
    "fp.close()"
   ]
  },
  {
   "cell_type": "code",
   "execution_count": 69,
   "metadata": {},
   "outputs": [
    {
     "name": "stdout",
     "output_type": "stream",
     "text": [
      "['彰化縣員林市林森路249巷13號10樓\\n', '              \\n', '                  33\\n坪\\u3000x\\u3000全部', '                  \\t', '              ', '              ', '              \\t ', '               \\t\\t建物拍賣底價: 新台幣 2,000,000 元']\n",
      "['彰化縣員林市員集路2段492巷92號\\n', '              \\n', '                  22\\n坪\\u3000x\\u3000全部', '                  \\t', '              ', '              ', '              \\t ', '               \\t\\t建物拍賣底價: 新台幣 1,000,000 元']\n",
      "['彰化縣員林市員集路2段492巷92號\\n', '              \\n', '                  0\\n坪\\u3000x\\u3000全部', '                  \\t', '              ', '              ', '              \\t ', '               \\t\\t建物拍賣底價: 新台幣 100,000 元']\n"
     ]
    }
   ],
   "source": [
    "from bs4 import BeautifulSoup\n",
    "import requests\n",
    "url='http://aomp.judicial.gov.tw/abbs/wkw/WHD2A03.jsp?DA26ED66FBC64C8E3F76F8B3C7898E83=98052D445BCDAB5B95CB3BAD53C23565&hsimun=%B9%FC%A4%C6%BF%A4&ctmd=%AD%FB%AAL%A5%AB&sec=all&saledate1=&saledate2=&crmyy=&crmid=&crmno=&dpt=&minprice1=&minprice2=&saleno=&area1=&area2=&registeno=&checkyn=all&emptyyn=all&rrange=%A4%A3%A4%C0&comm_yn=&owner1=&order=odcrm&courtX=CHD&proptypeX=C52&saletypeX=1&query_typeX=db'\n",
    "#fp = open('note.txt','w',encoding=\" utf-8\")\n",
    "req=requests.get(url).text\n",
    "soup = BeautifulSoup(req, 'lxml')\n",
    "sels =soup.find_all('table')[2]\n",
    "#print(sels)\n",
    "sub_sels=sels.find_all('tr')\n",
    "#print(sub_sels)\n",
    "for sel in sub_sels[1:]:\n",
    "    sub_sels=sel.find_all('td')\n",
    "    #print(sub_sels)\n",
    "    no=sub_sels[0].text.strip()\n",
    "    name=sub_sels[1].text.strip()\n",
    "    address_ad=sub_sels[2].text.replace(u'\\xa0','').strip()\n",
    "    address=address_ad.split('\\r\\n')[0]+address_ad.split('\\r\\n')[2].strip()\n",
    "    day_d=sub_sels[3].text.replace(u'\\xa0','').strip()\n",
    "    day=day_d.split('\\r\\n')[0]+day_d.split('\\r\\n')[3].strip()\n",
    "    County_co=sub_sels[4].text.replace(u'\\xa0','').strip()\n",
    "    County=County_co.split('\\r\\n')[0]+County_co.split('\\r\\n')[1].strip()\n",
    "    house_ho=sub_sels[5].text.replace(u'\\xa0','').strip()\n",
    "    house=house_ho.split('\\r\\n')\n",
    "    print(house)\n",
    "    #print(no,name,address,day,County)\n",
    "    "
   ]
  },
  {
   "cell_type": "code",
   "execution_count": null,
   "metadata": {},
   "outputs": [],
   "source": [
    "from bs4 import BeautifulSoup \n",
    "import time\n",
    "from selenium import webdriver\n",
    "from selenium.webdriver.common.keys import Keys\n",
    "product = input('請輸入要找尋的商品:')\n",
    "url1='https://www.momoshop.com.tw/main/Main.jsp'\n",
    "url2='https://www.etmall.com.tw/'\n",
    "url3='https://www.rakuten.com.tw/?scid=rafop-s956_GSN_brandword&pr=66bd460b92eb2a76'\n",
    "browser=webdriver.Chrome()\n",
    "browser.get(url1)\n",
    "browser.maximize_window()\n",
    "element = browser.find_element_by_name('keyword')\n",
    "element.send_keys(product)\n",
    "element=browser.find_element_by_tag_name('button')\n",
    "element.submit()\n",
    "time.sleep(5)\n",
    "soup =BeautifulSoup(browser.page_source,'html.parser')\n",
    "sels = soup.find('div','listArea').find_all('li')\n",
    "#print(sels)\n",
    "for sel in sels:\n",
    "    name=sel.find('p','prdName').text.strip()\n",
    "    price=sel.find('span','price').text.strip()\n",
    "    print(name,price)"
   ]
  },
  {
   "cell_type": "code",
   "execution_count": null,
   "metadata": {},
   "outputs": [],
   "source": [
    "from bs4 import BeautifulSoup \n",
    "import time\n",
    "from selenium import webdriver\n",
    "from selenium.webdriver.common.keys import Keys\n",
    "product = input('請輸入要找尋的商品:')\n",
    "url1='https://www.momoshop.com.tw/main/Main.jsp'\n",
    "url2='https://www.etmall.com.tw/'\n",
    "url3='https://www.rakuten.com.tw/?scid=rafop-s956_GSN_brandword&pr=66bd460b92eb2a76'\n",
    "browser=webdriver.Chrome()\n",
    "browser.get(url1)\n",
    "browser.maximize_window()\n",
    "element = browser.find_element_by_name('keyword')\n",
    "element.send_keys(product)\n",
    "element=browser.find_element_by_tag_name('button')\n",
    "element.submit()\n",
    "time.sleep(5)\n",
    "soup =BeautifulSoup(browser.page_source,'html.parser')\n",
    "sels = soup.find('div','listArea').find_all('li')\n",
    "#print(sels)\n",
    "for sel in sels:\n",
    "    name=sel.find('p','prdName').text.strip()\n",
    "    price=sel.find('span','price').text.strip()\n",
    "    print(name,price)"
   ]
  },
  {
   "cell_type": "code",
   "execution_count": null,
   "metadata": {},
   "outputs": [],
   "source": []
  }
 ],
 "metadata": {
  "kernelspec": {
   "display_name": "Python 3",
   "language": "python",
   "name": "python3"
  },
  "language_info": {
   "codemirror_mode": {
    "name": "ipython",
    "version": 3
   },
   "file_extension": ".py",
   "mimetype": "text/x-python",
   "name": "python",
   "nbconvert_exporter": "python",
   "pygments_lexer": "ipython3",
   "version": "3.7.3"
  }
 },
 "nbformat": 4,
 "nbformat_minor": 2
}
